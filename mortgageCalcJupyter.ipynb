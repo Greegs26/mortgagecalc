{
 "cells": [
  {
   "cell_type": "code",
   "execution_count": null,
   "metadata": {},
   "outputs": [],
   "source": [
    "# trying to use excel less\n",
    "\n",
    "mortgagecap=0.39\n",
    "debtcap=0.44\n",
    "\n",
    "user_salary=int(input(\"Please enter your yearly salary: \"))\n",
    "print(user_salary)\n"
   ]
  }
 ],
 "metadata": {
  "language_info": {
   "name": "python"
  }
 },
 "nbformat": 4,
 "nbformat_minor": 2
}
