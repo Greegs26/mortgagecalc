{
 "cells": [
  {
   "cell_type": "code",
   "execution_count": 4,
   "metadata": {},
   "outputs": [
    {
     "name": "stdout",
     "output_type": "stream",
     "text": [
      "10000\n",
      "1000\n",
      "11000\n"
     ]
    }
   ],
   "source": [
    "# trying to use excel less\n",
    "# trying to test something\n",
    "\n",
    "mortgagecap=0.39\n",
    "debtcap=0.44\n",
    "\n",
    "user_salary=int(input(\"Please enter your yearly salary: \"))\n",
    "print(user_salary)\n",
    "user_debtpayments=int(input(\"Please enter your total monthly debt payments: \"))\n",
    "print(user_debtpayments)\n",
    "print(user_salary + user_debtpayments)\n",
    "\n",
    "\n",
    "\n"
   ]
  },
  {
   "cell_type": "code",
   "execution_count": null,
   "metadata": {},
   "outputs": [],
   "source": []
  }
 ],
 "metadata": {
  "kernelspec": {
   "display_name": "Python 3",
   "language": "python",
   "name": "python3"
  },
  "language_info": {
   "codemirror_mode": {
    "name": "ipython",
    "version": 3
   },
   "file_extension": ".py",
   "mimetype": "text/x-python",
   "name": "python",
   "nbconvert_exporter": "python",
   "pygments_lexer": "ipython3",
   "version": "3.12.2"
  }
 },
 "nbformat": 4,
 "nbformat_minor": 2
}
